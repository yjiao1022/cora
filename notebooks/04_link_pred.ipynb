{
 "cells": [
  {
   "cell_type": "markdown",
   "id": "82c2bd54",
   "metadata": {},
   "source": [
    "# Setup"
   ]
  },
  {
   "cell_type": "code",
   "execution_count": 2,
   "id": "3c5f82df",
   "metadata": {},
   "outputs": [],
   "source": [
    "import sys\n",
    "import os\n",
    "PROJECT_ROOT = os.path.abspath(os.path.join(os.getcwd(), \"..\"))\n",
    "\n",
    "if PROJECT_ROOT not in sys.path:\n",
    "    sys.path.insert(0, PROJECT_ROOT)\n",
    "\n",
    "from src.tasks.embed_unsup import train_node2vec, train_dgi, linear_probe, plot_tsne, plot_umap\n",
    "from torch_geometric.datasets import Planetoid\n",
    "\n",
    "from src.tasks.link_pred import train_linkpred"
   ]
  },
  {
   "cell_type": "code",
   "execution_count": null,
   "id": "61f939cb",
   "metadata": {},
   "outputs": [],
   "source": [
    "# Load the data\n",
    "dataset = Planetoid(root=\"data/Cora\", name=\"Cora\", transform=NormalizeFeatures())\n",
    "data = dataset[0]"
   ]
  },
  {
   "cell_type": "code",
   "execution_count": null,
   "id": "8eee8805",
   "metadata": {},
   "outputs": [
    {
     "name": "stdout",
     "output_type": "stream",
     "text": [
      "[LinkPred] val AUC=0.884 AP=0.899 | test AUC=0.870 AP=0.880\n"
     ]
    }
   ],
   "source": [
    "# Run a model to get the auc and ap on the test set\n",
    "test_auc, test_ap = train_linkpred(\n",
    "    encoder=\"sage\",   # or \"sage\"\n",
    "    decoder_kind=\"mlp\",      # or \"dot\"\n",
    "    hid=128,\n",
    "    dropout=0.6,\n",
    "    epochs=200,               # fewer for quick test\n",
    "    lr=0.01,\n",
    ")\n"
   ]
  }
 ],
 "metadata": {
  "kernelspec": {
   "display_name": "cora",
   "language": "python",
   "name": "your-venv"
  },
  "language_info": {
   "codemirror_mode": {
    "name": "ipython",
    "version": 3
   },
   "file_extension": ".py",
   "mimetype": "text/x-python",
   "name": "python",
   "nbconvert_exporter": "python",
   "pygments_lexer": "ipython3",
   "version": "3.9.6"
  }
 },
 "nbformat": 4,
 "nbformat_minor": 5
}

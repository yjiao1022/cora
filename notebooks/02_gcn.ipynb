{
 "cells": [
  {
   "cell_type": "code",
   "execution_count": 1,
   "id": "de401ca9",
   "metadata": {},
   "outputs": [],
   "source": [
    "import sys, os, torch\n",
    "PROJECT_ROOT = os.path.abspath(os.path.join(os.getcwd(), \"..\"))\n",
    "\n",
    "if PROJECT_ROOT not in sys.path:\n",
    "    sys.path.insert(0, PROJECT_ROOT)\n",
    "\n",
    "from src.models.gcn import GCN\n",
    "from src.models.gat import GAT\n",
    "from src.tasks.node_classify import train_model\n",
    "from src.utils.explain import get_attention, top_k_neighbors, plot_attention_subgraph"
   ]
  },
  {
   "cell_type": "markdown",
   "id": "948dda8a",
   "metadata": {},
   "source": [
    "# GAT"
   ]
  },
  {
   "cell_type": "code",
   "execution_count": null,
   "id": "711b9b62",
   "metadata": {},
   "outputs": [
    {
     "name": "stdout",
     "output_type": "stream",
     "text": [
      "Epoch 001 | loss 1.9453 | val 0.212 | test 0.221\n",
      "Epoch 020 | loss 1.7475 | val 0.778 | test 0.805\n",
      "Epoch 040 | loss 1.4078 | val 0.792 | test 0.782\n",
      "Epoch 060 | loss 1.2410 | val 0.782 | test 0.804\n",
      "Epoch 080 | loss 1.0892 | val 0.806 | test 0.817\n",
      "Epoch 100 | loss 1.0349 | val 0.796 | test 0.818\n",
      "Epoch 120 | loss 0.9437 | val 0.792 | test 0.814\n",
      "Epoch 140 | loss 0.8660 | val 0.794 | test 0.817\n",
      "Epoch 160 | loss 0.7640 | val 0.800 | test 0.814\n",
      "Epoch 180 | loss 0.8391 | val 0.794 | test 0.828\n",
      "Epoch 200 | loss 0.7639 | val 0.790 | test 0.818\n",
      "Epoch 220 | loss 0.6997 | val 0.802 | test 0.823\n",
      "Epoch 240 | loss 0.7577 | val 0.792 | test 0.806\n",
      "Epoch 260 | loss 0.8540 | val 0.792 | test 0.803\n",
      "Epoch 280 | loss 0.6776 | val 0.790 | test 0.814\n",
      "Epoch 300 | loss 0.7573 | val 0.798 | test 0.825\n",
      "Best val: 0.814 | Final test: 0.819\n"
     ]
    }
   ],
   "source": [
    "# Train a GAT\n",
    "_, _, model, data, ds = train_model(\n",
    "    GAT,\n",
    "    {\"hid\": 8, \"heads\": 12, \"dropout\": 0.7},\n",
    "    epochs=300, lr=0.005, wd=5e-4, seed=4200\n",
    ")"
   ]
  },
  {
   "cell_type": "code",
   "execution_count": null,
   "id": "f3082a4e",
   "metadata": {},
   "outputs": [],
   "source": [
    "# 2) Grab attention from layer 0\n",
    "ei_used, alpha = get_attention(model, data.x, data.edge_index, layer=0)\n",
    "\n",
    "# 3) Pick a node and get top-5 neighbors by attention\n",
    "node_id = 42\n",
    "nbrs = top_k_neighbors(ei_used, alpha, node_id, k=5)\n",
    "print(\"Top neighbors:\", nbrs)\n",
    "\n",
    "# 4) Plot a mini star graph\n",
    "sys.path.insert(0, os.path.abspath(\"..\"))\n",
    "plot_attention_subgraph(G=None, center=node_id, nbrs=nbrs, save_path=\"../results/attention/node_42.png\")"
   ]
  },
  {
   "cell_type": "code",
   "execution_count": null,
   "id": "f5f6f693",
   "metadata": {},
   "outputs": [],
   "source": []
  }
 ],
 "metadata": {
  "kernelspec": {
   "display_name": "cora",
   "language": "python",
   "name": "your-venv"
  },
  "language_info": {
   "codemirror_mode": {
    "name": "ipython",
    "version": 3
   },
   "file_extension": ".py",
   "mimetype": "text/x-python",
   "name": "python",
   "nbconvert_exporter": "python",
   "pygments_lexer": "ipython3",
   "version": "3.9.6"
  }
 },
 "nbformat": 4,
 "nbformat_minor": 5
}
